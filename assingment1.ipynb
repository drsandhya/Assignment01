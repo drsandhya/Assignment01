{
 "cells": [
  {
   "cell_type": "code",
   "execution_count": null,
   "id": "6d21dcf4-079c-41fe-8015-fd105b0d9ec8",
   "metadata": {},
   "outputs": [],
   "source": [
    "#Q1. Create one variable containing following type of data:"
   ]
  },
  {
   "cell_type": "code",
   "execution_count": null,
   "id": "993e4685-3325-4876-af04-1f2cbb0a31bc",
   "metadata": {},
   "outputs": [],
   "source": [
    "#(i) string\n",
    "a = \"Hello World \""
   ]
  },
  {
   "cell_type": "code",
   "execution_count": null,
   "id": "491858c6-8b9a-4f01-a11a-687cf087fcc7",
   "metadata": {},
   "outputs": [],
   "source": [
    "#(ii) list\n",
    "b = [\"banana\",\"mango\",\"papaya\",546,87]"
   ]
  },
  {
   "cell_type": "code",
   "execution_count": null,
   "id": "d84cde1e-5e32-46a8-bbf0-66792f90dc16",
   "metadata": {},
   "outputs": [],
   "source": [
    "#(iii) float\n",
    "f = 54.97"
   ]
  },
  {
   "cell_type": "code",
   "execution_count": null,
   "id": "24741294-abb7-4401-aaf0-21d243af35a7",
   "metadata": {},
   "outputs": [],
   "source": [
    "#(iv) tuple\n",
    "t = (\"mango\",\"papaya\",98,34)"
   ]
  },
  {
   "cell_type": "code",
   "execution_count": null,
   "id": "27a41283-5801-4de9-87e3-7de5badd75eb",
   "metadata": {},
   "outputs": [],
   "source": [
    "#Q2. Given are some following variables containing data:"
   ]
  },
  {
   "cell_type": "code",
   "execution_count": 3,
   "id": "a7fd60a2-558b-49fc-acb3-bd2ba6ed0315",
   "metadata": {},
   "outputs": [
    {
     "data": {
      "text/plain": [
       "str"
      ]
     },
     "execution_count": 3,
     "metadata": {},
     "output_type": "execute_result"
    }
   ],
   "source": [
    "#(i) var1 = ‘ ‘\n",
    "var1 = ' '\n",
    "type(var1)"
   ]
  },
  {
   "cell_type": "code",
   "execution_count": 8,
   "id": "0a7b629b-fb85-4cd0-8d5a-7bb32584ccec",
   "metadata": {},
   "outputs": [
    {
     "data": {
      "text/plain": [
       "str"
      ]
     },
     "execution_count": 8,
     "metadata": {},
     "output_type": "execute_result"
    }
   ],
   "source": [
    "#(ii) var2 = ‘[ DS , ML , Python]’\n",
    "var2 = '[ DS , ML , Python]'\n",
    "type(var2)"
   ]
  },
  {
   "cell_type": "code",
   "execution_count": 10,
   "id": "e9c43830-53ab-4c3c-b451-6ab6a38a0d97",
   "metadata": {},
   "outputs": [
    {
     "data": {
      "text/plain": [
       "list"
      ]
     },
     "execution_count": 10,
     "metadata": {},
     "output_type": "execute_result"
    }
   ],
   "source": [
    "#(iii) var3 = [ ‘DS’ , ’ML’ , ‘Python’ ]\n",
    "var3 = [ 'D' , 'ML' , 'Python' ]\n",
    "type(var3)"
   ]
  },
  {
   "cell_type": "code",
   "execution_count": 1,
   "id": "2c588d8b-08ef-4a2b-be9f-e8075accec0a",
   "metadata": {},
   "outputs": [
    {
     "data": {
      "text/plain": [
       "int"
      ]
     },
     "execution_count": 1,
     "metadata": {},
     "output_type": "execute_result"
    }
   ],
   "source": [
    "#(iv) var4 = 1\n",
    "var4 = 1\n",
    "type(var4)"
   ]
  },
  {
   "cell_type": "code",
   "execution_count": null,
   "id": "78db57fb-fba9-4d0f-bfe0-d4eeb6099869",
   "metadata": {},
   "outputs": [],
   "source": [
    "Q3. Explain the use of the following operators using an example:\n",
    "(i) /\n",
    "(ii) %\n",
    "(iii) //\n",
    "(iv) **"
   ]
  },
  {
   "cell_type": "code",
   "execution_count": 13,
   "id": "9373e553-0e3f-46bc-8d55-1b7bfd89015a",
   "metadata": {},
   "outputs": [
    {
     "name": "stdin",
     "output_type": "stream",
     "text": [
      "Enter a first number 4\n",
      "Enter a second number 2\n"
     ]
    },
    {
     "name": "stdout",
     "output_type": "stream",
     "text": [
      "2.0\n"
     ]
    }
   ],
   "source": [
    "a=int(input(\"Enter a first number\"))\n",
    "b=int(input(\"Enter a second number\"))\n",
    "\n",
    "c=a/b\n",
    "print(c)"
   ]
  },
  {
   "cell_type": "code",
   "execution_count": 14,
   "id": "d9d2c422-d7d9-4075-9f89-0554b87f13eb",
   "metadata": {},
   "outputs": [
    {
     "name": "stdin",
     "output_type": "stream",
     "text": [
      "Enter a first number 5\n",
      "Enter a second number 3\n"
     ]
    },
    {
     "name": "stdout",
     "output_type": "stream",
     "text": [
      "2\n"
     ]
    }
   ],
   "source": [
    "a=int(input(\"Enter a first number\"))\n",
    "b=int(input(\"Enter a second number\"))\n",
    "\n",
    "c=a%b\n",
    "print(c)"
   ]
  },
  {
   "cell_type": "code",
   "execution_count": 15,
   "id": "0c0e01d3-c331-457e-9a71-34794d742efd",
   "metadata": {},
   "outputs": [
    {
     "name": "stdin",
     "output_type": "stream",
     "text": [
      "Enter a first number 6\n",
      "Enter a second number 2\n"
     ]
    },
    {
     "name": "stdout",
     "output_type": "stream",
     "text": [
      "3\n"
     ]
    }
   ],
   "source": [
    "a=int(input(\"Enter a first number\"))\n",
    "b=int(input(\"Enter a second number\"))\n",
    "\n",
    "c=a//b\n",
    "print(c)"
   ]
  },
  {
   "cell_type": "code",
   "execution_count": 17,
   "id": "8f8e0b4d-a6af-4e45-a6cb-d12b6b7495fa",
   "metadata": {},
   "outputs": [
    {
     "name": "stdin",
     "output_type": "stream",
     "text": [
      "Enter a first number 2\n",
      "Enter a second number 5\n"
     ]
    },
    {
     "name": "stdout",
     "output_type": "stream",
     "text": [
      "32\n"
     ]
    }
   ],
   "source": [
    "a=int(input(\"Enter a first number\"))\n",
    "b=int(input(\"Enter a second number\"))\n",
    "\n",
    "c=a**b\n",
    "print(c)"
   ]
  },
  {
   "cell_type": "code",
   "execution_count": 19,
   "id": "ab47e95e-85f0-4ec4-a3a1-5347a68f27ea",
   "metadata": {},
   "outputs": [
    {
     "name": "stdout",
     "output_type": "stream",
     "text": [
      "banana\n",
      "654\n",
      "school\n",
      "345\n",
      "pen\n",
      "ram\n",
      "harry\n",
      "23.54\n",
      "python\n",
      "Happy\n"
     ]
    }
   ],
   "source": [
    "#Q4. Create a list of length 10 of your choice containing multiple types of data. Using for loop print the\n",
    "#element and its data type.\n",
    "\n",
    "l = [\"banana\", 654, \"school\", 345, \"pen\", \"ram\",\"harry\",23.54, \"python\",\"Happy\"]\n",
    "for a in l:\n",
    "    print(a)"
   ]
  },
  {
   "cell_type": "code",
   "execution_count": 3,
   "id": "5dac7211-ca5d-4b6f-b4a2-4edd1d57afdc",
   "metadata": {},
   "outputs": [
    {
     "name": "stdin",
     "output_type": "stream",
     "text": [
      "Enter a number :  20\n",
      "Eneter divider number :  5\n"
     ]
    },
    {
     "name": "stdout",
     "output_type": "stream",
     "text": [
      "4.0 Divisible by 5 and can be divided 1 times : \n"
     ]
    }
   ],
   "source": [
    "#Q5. Using a while loop, verify if the number A is purely divisible by number B and if so then how many\n",
    "#times it can be divisible.\n",
    "\n",
    "A = int(input(\"Enter a number : \"))\n",
    "B = int(input(\"Eneter divider number : \")) \n",
    "count = 0\n",
    "\n",
    "while(A%B==0):\n",
    "    A = A / B\n",
    "    count += 1\n",
    "\n",
    "if count > 0:\n",
    "    print(f\"{A} Divisible by {B} and can be divided {count} times : \")\n",
    "else:\n",
    "    print(\"Not divisible \")\n",
    "\n",
    "\n"
   ]
  },
  {
   "cell_type": "code",
   "execution_count": 5,
   "id": "bf284761-c2a0-475f-8004-fdaff52809b4",
   "metadata": {},
   "outputs": [
    {
     "name": "stdout",
     "output_type": "stream",
     "text": [
      "2 is not divisible by 3. \n",
      "4 is not divisible by 3. \n",
      "3 is divisible by 3. \n",
      "6 is divisible by 3. \n",
      "8 is not divisible by 3. \n",
      "9 is divisible by 3. \n",
      "34 is not divisible by 3. \n",
      "56 is not divisible by 3. \n",
      "87 is divisible by 3. \n",
      "65 is not divisible by 3. \n",
      "32 is not divisible by 3. \n",
      "98 is not divisible by 3. \n",
      "67 is not divisible by 3. \n",
      "23 is not divisible by 3. \n",
      "91 is not divisible by 3. \n",
      "83 is not divisible by 3. \n",
      "57 is divisible by 3. \n",
      "64 is not divisible by 3. \n",
      "67 is not divisible by 3. \n",
      "35 is not divisible by 3. \n",
      "89 is not divisible by 3. \n",
      "68 is not divisible by 3. \n",
      "54 is divisible by 3. \n",
      "48 is divisible by 3. \n",
      "36 is divisible by 3. \n"
     ]
    }
   ],
   "source": [
    "#Q6. Create a list containing 25 int type data. Using for loop and if-else condition print if the element is\n",
    "#divisible by 3 or not.\n",
    "\n",
    "num = [2,4,3,6,8,9,34,56,87,65,32,98,67,23,91,83,57,64,67,35,89,68,54,48,36]\n",
    "\n",
    "for n in num:\n",
    "    if n % 3 == 0:\n",
    "        print(f\"{n} is divisible by 3. \")\n",
    "    else:\n",
    "        print(f\"{n} is not divisible by 3. \")"
   ]
  },
  {
   "cell_type": "code",
   "execution_count": 7,
   "id": "16bbfa0f-eec2-4edd-94d4-db78e5a9c648",
   "metadata": {},
   "outputs": [
    {
     "name": "stdout",
     "output_type": "stream",
     "text": [
      "Hell0World\n",
      "Hell0\n"
     ]
    }
   ],
   "source": [
    "#Q7. What do you understand about mutable and immutable data types? Give examples for both showing\n",
    "#this property.\n",
    "\n",
    "\n",
    "a = \"Hell0\"\n",
    "b = a\n",
    "\n",
    "a += \"World\"\n",
    "\n",
    "print(a)\n",
    "print(b)"
   ]
  },
  {
   "cell_type": "code",
   "execution_count": 8,
   "id": "f8721a30-56d9-4f84-a539-89a20a129f0b",
   "metadata": {},
   "outputs": [
    {
     "name": "stdout",
     "output_type": "stream",
     "text": [
      "[1, 2, 3, 4, 5]\n",
      "[1, 2, 3, 4, 5]\n"
     ]
    }
   ],
   "source": [
    "list1 = [1,2,3,4]\n",
    "list2 = list1\n",
    "\n",
    "list1.append(5)\n",
    "print(list1)\n",
    "print(list2)"
   ]
  },
  {
   "cell_type": "code",
   "execution_count": null,
   "id": "d88ff0ac-4049-4336-a7c4-f3f074157fd3",
   "metadata": {},
   "outputs": [],
   "source": []
  }
 ],
 "metadata": {
  "kernelspec": {
   "display_name": "Python 3 (ipykernel)",
   "language": "python",
   "name": "python3"
  },
  "language_info": {
   "codemirror_mode": {
    "name": "ipython",
    "version": 3
   },
   "file_extension": ".py",
   "mimetype": "text/x-python",
   "name": "python",
   "nbconvert_exporter": "python",
   "pygments_lexer": "ipython3",
   "version": "3.10.8"
  }
 },
 "nbformat": 4,
 "nbformat_minor": 5
}
